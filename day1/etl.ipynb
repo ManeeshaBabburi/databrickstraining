{
 "cells": [
  {
   "cell_type": "code",
   "execution_count": 0,
   "metadata": {
    "application/vnd.databricks.v1+cell": {
     "cellMetadata": {
      "byteLimit": 2048000,
      "rowLimit": 10000
     },
     "inputWidgets": {},
     "nuid": "94653857-bf90-4ebf-9253-553b826dee18",
     "showTitle": false,
     "tableResultSettingsMap": {},
     "title": ""
    }
   },
   "outputs": [],
   "source": [
    "from pyspark.sql.functions import *\n",
    "input_path= \"/Volumes/dev/maneesha/raw/house-price.json\"\n",
    "df=spark.read.json(input_path)\n",
    "df1=df.withColumnRenamed(\"price\",\"house_price\").withColumn(\"ingestion_date\",current_timestamp())\n",
    "\n",
    "df1.write.mode(\"overwrite\").saveAsTable(\"dev.maneesha.house_pricing\")\n"
   ]
  }
 ],
 "metadata": {
  "application/vnd.databricks.v1+notebook": {
   "computePreferences": null,
   "dashboards": [],
   "environmentMetadata": {
    "base_environment": "",
    "environment_version": "2"
   },
   "inputWidgetPreferences": null,
   "language": "python",
   "notebookMetadata": {
    "pythonIndentUnit": 4
   },
   "notebookName": "etl",
   "widgets": {}
  },
  "language_info": {
   "name": "python"
  }
 },
 "nbformat": 4,
 "nbformat_minor": 0
}
