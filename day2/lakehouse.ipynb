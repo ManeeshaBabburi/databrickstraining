{
 "cells": [
  {
   "cell_type": "code",
   "execution_count": 0,
   "metadata": {
    "application/vnd.databricks.v1+cell": {
     "cellMetadata": {
      "byteLimit": 2048000,
      "rowLimit": 10000
     },
     "inputWidgets": {},
     "nuid": "2294bc88-bb4a-4afc-beff-16c8e9e4acf7",
     "showTitle": false,
     "tableResultSettingsMap": {},
     "title": ""
    }
   },
   "outputs": [],
   "source": [
    "delta in databricks\n",
    "iceberg in snowflake\n",
    "\n",
    "where is lakehouse?\n",
    "how to build lakehouse?\n",
    "\n",
    "open table formats (support ACID)\n",
    "delta iceberg hudi ---- help you to buidl lakehouse \n",
    "\n",
    "csv \n",
    "\n",
    "(upto 97% )\n",
    "\n",
    "\n",
    "parquet \n",
    "\n",
    "delta iceberg (support acid)\n"
   ]
  },
  {
   "cell_type": "code",
   "execution_count": 0,
   "metadata": {
    "application/vnd.databricks.v1+cell": {
     "cellMetadata": {},
     "inputWidgets": {},
     "nuid": "1c216d63-c32a-4007-9f6a-1af9dc5c74f3",
     "showTitle": false,
     "tableResultSettingsMap": {},
     "title": ""
    }
   },
   "outputs": [],
   "source": [
    "\n",
    "iceberg (support acid)\n",
    "\n",
    "parquet\n",
    "+ \n",
    "metadata\n",
    "\n",
    "\n",
    "\n",
    "delta lake (support acid)\n",
    "\n",
    "parquet\n",
    "+ \n",
    "delta_logs "
   ]
  }
 ],
 "metadata": {
  "application/vnd.databricks.v1+notebook": {
   "computePreferences": null,
   "dashboards": [],
   "environmentMetadata": {
    "base_environment": "",
    "environment_version": "2"
   },
   "inputWidgetPreferences": null,
   "language": "python",
   "notebookMetadata": {
    "pythonIndentUnit": 4
   },
   "notebookName": "lakehouse",
   "widgets": {}
  },
  "language_info": {
   "name": "python"
  }
 },
 "nbformat": 4,
 "nbformat_minor": 0
}
