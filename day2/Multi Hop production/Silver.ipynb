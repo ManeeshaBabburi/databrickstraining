{
 "cells": [
  {
   "cell_type": "code",
   "execution_count": 0,
   "metadata": {
    "application/vnd.databricks.v1+cell": {
     "cellMetadata": {
      "byteLimit": 2048000,
      "rowLimit": 10000
     },
     "inputWidgets": {},
     "nuid": "8d7843b5-7ec9-44cf-ac7b-a592d82ce240",
     "showTitle": false,
     "tableResultSettingsMap": {},
     "title": ""
    }
   },
   "outputs": [],
   "source": [
    "%python\n",
    "df=spark.read.table(\"dev.maneesha_bronze.sales\")\n",
    "\n",
    "df1=df.dropDuplicates().dropna().drop(\"ingestion_date\")\n",
    "\n",
    "df1.write.mode(\"overwrite\").saveAsTable(\"dev.maneesha_silver.sales_cleaned\")"
   ]
  },
  {
   "cell_type": "code",
   "execution_count": 0,
   "metadata": {
    "application/vnd.databricks.v1+cell": {
     "cellMetadata": {
      "byteLimit": 2048000,
      "implicitDf": true,
      "rowLimit": 10000
     },
     "inputWidgets": {},
     "nuid": "d3e68eac-92ea-4ffb-8ff8-fdb40f09f27c",
     "showTitle": false,
     "tableResultSettingsMap": {},
     "title": ""
    }
   },
   "outputs": [],
   "source": [
    "%sql\n",
    "select * from dev.maneesha_bronze.products"
   ]
  },
  {
   "cell_type": "code",
   "execution_count": 0,
   "metadata": {
    "application/vnd.databricks.v1+cell": {
     "cellMetadata": {
      "byteLimit": 2048000,
      "implicitDf": true,
      "rowLimit": 10000
     },
     "inputWidgets": {},
     "nuid": "cd1a37f8-b763-4ac0-9863-7ca92045340b",
     "showTitle": false,
     "tableResultSettingsMap": {},
     "title": ""
    }
   },
   "outputs": [],
   "source": [
    "%sql\n",
    "create or replace table dev.maneesha_silver.products_scd1 (product_id int , product_name string, price double, category string)"
   ]
  },
  {
   "cell_type": "code",
   "execution_count": 0,
   "metadata": {
    "application/vnd.databricks.v1+cell": {
     "cellMetadata": {
      "byteLimit": 2048000,
      "implicitDf": true,
      "rowLimit": 10000
     },
     "inputWidgets": {},
     "nuid": "32169af9-4d3d-4453-8b07-c8df8873e0c1",
     "showTitle": false,
     "tableResultSettingsMap": {},
     "title": ""
    }
   },
   "outputs": [],
   "source": [
    "%sql\n",
    "with deduplicated_source as \n",
    "(\n",
    "  select s.*,\n",
    "  row_number() over(partition by product_id order by seqNum desc) as row_number\n",
    "  from dev.maneesha_bronze.products s\n",
    "  )\n",
    "merge into dev.maneesha_silver.products_scd1 t\n",
    "using (select * from deduplicated_source where row_number =1)s \n",
    "on t.product_id = s.product_id\n",
    "when matched and s.operation=\"DELETE\" \n",
    "then delete\n",
    "when matched and s.operation=\"UPDATE\" then update\n",
    "set \n",
    "t.product_name = s.product_name,\n",
    "t.price = s.product_price,\n",
    "t.category = s.product_category\n",
    "when not matched then insert \n",
    "(t.product_id, t.product_name, t.price, t.category) values (s.product_id, s.product_name, s.product_price, s.product_category)"
   ]
  }
 ],
 "metadata": {
  "application/vnd.databricks.v1+notebook": {
   "computePreferences": null,
   "dashboards": [],
   "environmentMetadata": {
    "base_environment": "",
    "environment_version": "2"
   },
   "inputWidgetPreferences": null,
   "language": "python",
   "notebookMetadata": {
    "mostRecentlyExecutedCommandWithImplicitDF": {
     "commandId": 5459993401667526,
     "dataframes": [
      "_sqldf"
     ]
    },
    "pythonIndentUnit": 4
   },
   "notebookName": "Silver",
   "widgets": {}
  },
  "language_info": {
   "name": "python"
  }
 },
 "nbformat": 4,
 "nbformat_minor": 0
}
